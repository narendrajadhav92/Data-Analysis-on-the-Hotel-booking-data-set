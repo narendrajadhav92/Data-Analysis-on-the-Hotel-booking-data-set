{
 "cells": [
  {
   "cell_type": "markdown",
   "id": "established-wesley",
   "metadata": {
    "papermill": {
     "duration": 0.032619,
     "end_time": "2021-07-13T14:04:32.916062",
     "exception": false,
     "start_time": "2021-07-13T14:04:32.883443",
     "status": "completed"
    },
    "tags": []
   },
   "source": [
    "About Data set:\n",
    "This data set contains a single file which compares various booking information between two hotels: a city hotel and a resort hotel.\n",
    "This database contains real data extracted from the following article:\n",
    "Hotel Booking Demand Datasets, written by Nuno Antonio, Ana Almeida, and Luis Nunes for  Data in Brief, Volume 22, February 2019. "
   ]
  },
  {
   "cell_type": "markdown",
   "id": "colored-scanner",
   "metadata": {
    "papermill": {
     "duration": 0.031726,
     "end_time": "2021-07-13T14:04:32.981138",
     "exception": false,
     "start_time": "2021-07-13T14:04:32.949412",
     "status": "completed"
    },
    "tags": []
   },
   "source": [
    "Note: Names, emails, phone numbers, and credit card numbers are artificial datas. "
   ]
  },
  {
   "cell_type": "markdown",
   "id": "precious-passport",
   "metadata": {
    "papermill": {
     "duration": 0.031459,
     "end_time": "2021-07-13T14:04:33.044583",
     "exception": false,
     "start_time": "2021-07-13T14:04:33.013124",
     "status": "completed"
    },
    "tags": []
   },
   "source": []
  },
  {
   "cell_type": "code",
   "execution_count": 1,
   "id": "regional-present",
   "metadata": {
    "execution": {
     "iopub.execute_input": "2021-07-13T14:04:33.112234Z",
     "iopub.status.busy": "2021-07-13T14:04:33.111006Z",
     "iopub.status.idle": "2021-07-13T14:04:33.990732Z",
     "shell.execute_reply": "2021-07-13T14:04:33.990002Z",
     "shell.execute_reply.started": "2021-07-13T14:02:46.817558Z"
    },
    "papermill": {
     "duration": 0.914921,
     "end_time": "2021-07-13T14:04:33.991025",
     "exception": false,
     "start_time": "2021-07-13T14:04:33.076104",
     "status": "completed"
    },
    "tags": []
   },
   "outputs": [],
   "source": [
    "import numpy as np\n",
    "import pandas as pd\n",
    "import matplotlib.pyplot as plt\n",
    "import seaborn as sns\n",
    "%matplotlib inline"
   ]
  },
  {
   "cell_type": "markdown",
   "id": "changing-taste",
   "metadata": {
    "papermill": {
     "duration": 0.031176,
     "end_time": "2021-07-13T14:04:34.053725",
     "exception": false,
     "start_time": "2021-07-13T14:04:34.022549",
     "status": "completed"
    },
    "tags": []
   },
   "source": [
    "2-1:read the data set"
   ]
  },
  {
   "cell_type": "code",
   "execution_count": 2,
   "id": "yellow-sender",
   "metadata": {
    "execution": {
     "iopub.execute_input": "2021-07-13T14:04:34.123230Z",
     "iopub.status.busy": "2021-07-13T14:04:34.122206Z",
     "iopub.status.idle": "2021-07-13T14:04:35.265813Z",
     "shell.execute_reply": "2021-07-13T14:04:35.265163Z",
     "shell.execute_reply.started": "2021-07-13T14:02:46.825424Z"
    },
    "papermill": {
     "duration": 1.180698,
     "end_time": "2021-07-13T14:04:35.265982",
     "exception": false,
     "start_time": "2021-07-13T14:04:34.085284",
     "status": "completed"
    },
    "tags": []
   },
   "outputs": [],
   "source": [
    "df=pd.read_csv(\"hotel_booking.csv\")"
   ]
  },
  {
   "cell_type": "markdown",
   "id": "bizarre-giving",
   "metadata": {
    "papermill": {
     "duration": 0.031319,
     "end_time": "2021-07-13T14:04:35.328930",
     "exception": false,
     "start_time": "2021-07-13T14:04:35.297611",
     "status": "completed"
    },
    "tags": []
   },
   "source": []
  },
  {
   "cell_type": "markdown",
   "id": "complex-colombia",
   "metadata": {
    "papermill": {
     "duration": 0.031257,
     "end_time": "2021-07-13T14:04:35.391763",
     "exception": false,
     "start_time": "2021-07-13T14:04:35.360506",
     "status": "completed"
    },
    "tags": []
   },
   "source": [
    "2-2:check the basic data set information"
   ]
  },
  {
   "cell_type": "code",
   "execution_count": 3,
   "id": "vulnerable-conjunction",
   "metadata": {
    "execution": {
     "iopub.execute_input": "2021-07-13T14:04:35.474215Z",
     "iopub.status.busy": "2021-07-13T14:04:35.473444Z",
     "iopub.status.idle": "2021-07-13T14:04:35.505392Z",
     "shell.execute_reply": "2021-07-13T14:04:35.504632Z",
     "shell.execute_reply.started": "2021-07-13T14:02:47.455211Z"
    },
    "papermill": {
     "duration": 0.08232,
     "end_time": "2021-07-13T14:04:35.505559",
     "exception": false,
     "start_time": "2021-07-13T14:04:35.423239",
     "status": "completed"
    },
    "tags": []
   },
   "outputs": [
    {
     "data": {
      "text/html": [
       "<div>\n",
       "<style scoped>\n",
       "    .dataframe tbody tr th:only-of-type {\n",
       "        vertical-align: middle;\n",
       "    }\n",
       "\n",
       "    .dataframe tbody tr th {\n",
       "        vertical-align: top;\n",
       "    }\n",
       "\n",
       "    .dataframe thead th {\n",
       "        text-align: right;\n",
       "    }\n",
       "</style>\n",
       "<table border=\"1\" class=\"dataframe\">\n",
       "  <thead>\n",
       "    <tr style=\"text-align: right;\">\n",
       "      <th></th>\n",
       "      <th>hotel</th>\n",
       "      <th>is_canceled</th>\n",
       "      <th>lead_time</th>\n",
       "      <th>arrival_date_year</th>\n",
       "      <th>arrival_date_month</th>\n",
       "      <th>arrival_date_week_number</th>\n",
       "      <th>arrival_date_day_of_month</th>\n",
       "      <th>stays_in_weekend_nights</th>\n",
       "      <th>stays_in_week_nights</th>\n",
       "      <th>adults</th>\n",
       "      <th>...</th>\n",
       "      <th>customer_type</th>\n",
       "      <th>adr</th>\n",
       "      <th>required_car_parking_spaces</th>\n",
       "      <th>total_of_special_requests</th>\n",
       "      <th>reservation_status</th>\n",
       "      <th>reservation_status_date</th>\n",
       "      <th>name</th>\n",
       "      <th>email</th>\n",
       "      <th>phone-number</th>\n",
       "      <th>credit_card</th>\n",
       "    </tr>\n",
       "  </thead>\n",
       "  <tbody>\n",
       "    <tr>\n",
       "      <th>0</th>\n",
       "      <td>Resort Hotel</td>\n",
       "      <td>0</td>\n",
       "      <td>342</td>\n",
       "      <td>2015</td>\n",
       "      <td>July</td>\n",
       "      <td>27</td>\n",
       "      <td>1</td>\n",
       "      <td>0</td>\n",
       "      <td>0</td>\n",
       "      <td>2</td>\n",
       "      <td>...</td>\n",
       "      <td>Transient</td>\n",
       "      <td>0.0</td>\n",
       "      <td>0</td>\n",
       "      <td>0</td>\n",
       "      <td>Check-Out</td>\n",
       "      <td>2015-07-01</td>\n",
       "      <td>Ernest Barnes</td>\n",
       "      <td>Ernest.Barnes31@outlook.com</td>\n",
       "      <td>669-792-1661</td>\n",
       "      <td>************4322</td>\n",
       "    </tr>\n",
       "    <tr>\n",
       "      <th>1</th>\n",
       "      <td>Resort Hotel</td>\n",
       "      <td>0</td>\n",
       "      <td>737</td>\n",
       "      <td>2015</td>\n",
       "      <td>July</td>\n",
       "      <td>27</td>\n",
       "      <td>1</td>\n",
       "      <td>0</td>\n",
       "      <td>0</td>\n",
       "      <td>2</td>\n",
       "      <td>...</td>\n",
       "      <td>Transient</td>\n",
       "      <td>0.0</td>\n",
       "      <td>0</td>\n",
       "      <td>0</td>\n",
       "      <td>Check-Out</td>\n",
       "      <td>2015-07-01</td>\n",
       "      <td>Andrea Baker</td>\n",
       "      <td>Andrea_Baker94@aol.com</td>\n",
       "      <td>858-637-6955</td>\n",
       "      <td>************9157</td>\n",
       "    </tr>\n",
       "    <tr>\n",
       "      <th>2</th>\n",
       "      <td>Resort Hotel</td>\n",
       "      <td>0</td>\n",
       "      <td>7</td>\n",
       "      <td>2015</td>\n",
       "      <td>July</td>\n",
       "      <td>27</td>\n",
       "      <td>1</td>\n",
       "      <td>0</td>\n",
       "      <td>1</td>\n",
       "      <td>1</td>\n",
       "      <td>...</td>\n",
       "      <td>Transient</td>\n",
       "      <td>75.0</td>\n",
       "      <td>0</td>\n",
       "      <td>0</td>\n",
       "      <td>Check-Out</td>\n",
       "      <td>2015-07-02</td>\n",
       "      <td>Rebecca Parker</td>\n",
       "      <td>Rebecca_Parker@comcast.net</td>\n",
       "      <td>652-885-2745</td>\n",
       "      <td>************3734</td>\n",
       "    </tr>\n",
       "    <tr>\n",
       "      <th>3</th>\n",
       "      <td>Resort Hotel</td>\n",
       "      <td>0</td>\n",
       "      <td>13</td>\n",
       "      <td>2015</td>\n",
       "      <td>July</td>\n",
       "      <td>27</td>\n",
       "      <td>1</td>\n",
       "      <td>0</td>\n",
       "      <td>1</td>\n",
       "      <td>1</td>\n",
       "      <td>...</td>\n",
       "      <td>Transient</td>\n",
       "      <td>75.0</td>\n",
       "      <td>0</td>\n",
       "      <td>0</td>\n",
       "      <td>Check-Out</td>\n",
       "      <td>2015-07-02</td>\n",
       "      <td>Laura Murray</td>\n",
       "      <td>Laura_M@gmail.com</td>\n",
       "      <td>364-656-8427</td>\n",
       "      <td>************5677</td>\n",
       "    </tr>\n",
       "    <tr>\n",
       "      <th>4</th>\n",
       "      <td>Resort Hotel</td>\n",
       "      <td>0</td>\n",
       "      <td>14</td>\n",
       "      <td>2015</td>\n",
       "      <td>July</td>\n",
       "      <td>27</td>\n",
       "      <td>1</td>\n",
       "      <td>0</td>\n",
       "      <td>2</td>\n",
       "      <td>2</td>\n",
       "      <td>...</td>\n",
       "      <td>Transient</td>\n",
       "      <td>98.0</td>\n",
       "      <td>0</td>\n",
       "      <td>1</td>\n",
       "      <td>Check-Out</td>\n",
       "      <td>2015-07-03</td>\n",
       "      <td>Linda Hines</td>\n",
       "      <td>LHines@verizon.com</td>\n",
       "      <td>713-226-5883</td>\n",
       "      <td>************5498</td>\n",
       "    </tr>\n",
       "  </tbody>\n",
       "</table>\n",
       "<p>5 rows × 36 columns</p>\n",
       "</div>"
      ],
      "text/plain": [
       "          hotel  is_canceled  lead_time  arrival_date_year arrival_date_month  \\\n",
       "0  Resort Hotel            0        342               2015               July   \n",
       "1  Resort Hotel            0        737               2015               July   \n",
       "2  Resort Hotel            0          7               2015               July   \n",
       "3  Resort Hotel            0         13               2015               July   \n",
       "4  Resort Hotel            0         14               2015               July   \n",
       "\n",
       "   arrival_date_week_number  arrival_date_day_of_month  \\\n",
       "0                        27                          1   \n",
       "1                        27                          1   \n",
       "2                        27                          1   \n",
       "3                        27                          1   \n",
       "4                        27                          1   \n",
       "\n",
       "   stays_in_weekend_nights  stays_in_week_nights  adults  ...  customer_type  \\\n",
       "0                        0                     0       2  ...      Transient   \n",
       "1                        0                     0       2  ...      Transient   \n",
       "2                        0                     1       1  ...      Transient   \n",
       "3                        0                     1       1  ...      Transient   \n",
       "4                        0                     2       2  ...      Transient   \n",
       "\n",
       "    adr required_car_parking_spaces total_of_special_requests  \\\n",
       "0   0.0                           0                         0   \n",
       "1   0.0                           0                         0   \n",
       "2  75.0                           0                         0   \n",
       "3  75.0                           0                         0   \n",
       "4  98.0                           0                         1   \n",
       "\n",
       "  reservation_status reservation_status_date            name  \\\n",
       "0          Check-Out              2015-07-01   Ernest Barnes   \n",
       "1          Check-Out              2015-07-01    Andrea Baker   \n",
       "2          Check-Out              2015-07-02  Rebecca Parker   \n",
       "3          Check-Out              2015-07-02    Laura Murray   \n",
       "4          Check-Out              2015-07-03     Linda Hines   \n",
       "\n",
       "                         email  phone-number       credit_card  \n",
       "0  Ernest.Barnes31@outlook.com  669-792-1661  ************4322  \n",
       "1       Andrea_Baker94@aol.com  858-637-6955  ************9157  \n",
       "2   Rebecca_Parker@comcast.net  652-885-2745  ************3734  \n",
       "3            Laura_M@gmail.com  364-656-8427  ************5677  \n",
       "4           LHines@verizon.com  713-226-5883  ************5498  \n",
       "\n",
       "[5 rows x 36 columns]"
      ]
     },
     "execution_count": 3,
     "metadata": {},
     "output_type": "execute_result"
    }
   ],
   "source": [
    "df.head()"
   ]
  },
  {
   "cell_type": "code",
   "execution_count": 4,
   "id": "graduate-wages",
   "metadata": {
    "execution": {
     "iopub.execute_input": "2021-07-13T14:04:35.578004Z",
     "iopub.status.busy": "2021-07-13T14:04:35.576973Z",
     "iopub.status.idle": "2021-07-13T14:04:35.791141Z",
     "shell.execute_reply": "2021-07-13T14:04:35.791964Z",
     "shell.execute_reply.started": "2021-07-13T14:02:47.486519Z"
    },
    "papermill": {
     "duration": 0.253997,
     "end_time": "2021-07-13T14:04:35.792233",
     "exception": false,
     "start_time": "2021-07-13T14:04:35.538236",
     "status": "completed"
    },
    "tags": []
   },
   "outputs": [
    {
     "name": "stdout",
     "output_type": "stream",
     "text": [
      "<class 'pandas.core.frame.DataFrame'>\n",
      "RangeIndex: 119390 entries, 0 to 119389\n",
      "Data columns (total 36 columns):\n",
      " #   Column                          Non-Null Count   Dtype  \n",
      "---  ------                          --------------   -----  \n",
      " 0   hotel                           119390 non-null  object \n",
      " 1   is_canceled                     119390 non-null  int64  \n",
      " 2   lead_time                       119390 non-null  int64  \n",
      " 3   arrival_date_year               119390 non-null  int64  \n",
      " 4   arrival_date_month              119390 non-null  object \n",
      " 5   arrival_date_week_number        119390 non-null  int64  \n",
      " 6   arrival_date_day_of_month       119390 non-null  int64  \n",
      " 7   stays_in_weekend_nights         119390 non-null  int64  \n",
      " 8   stays_in_week_nights            119390 non-null  int64  \n",
      " 9   adults                          119390 non-null  int64  \n",
      " 10  children                        119386 non-null  float64\n",
      " 11  babies                          119390 non-null  int64  \n",
      " 12  meal                            119390 non-null  object \n",
      " 13  country                         118902 non-null  object \n",
      " 14  market_segment                  119390 non-null  object \n",
      " 15  distribution_channel            119390 non-null  object \n",
      " 16  is_repeated_guest               119390 non-null  int64  \n",
      " 17  previous_cancellations          119390 non-null  int64  \n",
      " 18  previous_bookings_not_canceled  119390 non-null  int64  \n",
      " 19  reserved_room_type              119390 non-null  object \n",
      " 20  assigned_room_type              119390 non-null  object \n",
      " 21  booking_changes                 119390 non-null  int64  \n",
      " 22  deposit_type                    119390 non-null  object \n",
      " 23  agent                           103050 non-null  float64\n",
      " 24  company                         6797 non-null    float64\n",
      " 25  days_in_waiting_list            119390 non-null  int64  \n",
      " 26  customer_type                   119390 non-null  object \n",
      " 27  adr                             119390 non-null  float64\n",
      " 28  required_car_parking_spaces     119390 non-null  int64  \n",
      " 29  total_of_special_requests       119390 non-null  int64  \n",
      " 30  reservation_status              119390 non-null  object \n",
      " 31  reservation_status_date         119390 non-null  object \n",
      " 32  name                            119390 non-null  object \n",
      " 33  email                           119390 non-null  object \n",
      " 34  phone-number                    119390 non-null  object \n",
      " 35  credit_card                     119390 non-null  object \n",
      "dtypes: float64(4), int64(16), object(16)\n",
      "memory usage: 32.8+ MB\n"
     ]
    }
   ],
   "source": [
    "df.info()"
   ]
  },
  {
   "cell_type": "markdown",
   "id": "satisfied-settlement",
   "metadata": {
    "papermill": {
     "duration": 0.032124,
     "end_time": "2021-07-13T14:04:35.858527",
     "exception": false,
     "start_time": "2021-07-13T14:04:35.826403",
     "status": "completed"
    },
    "tags": []
   },
   "source": [
    "2-3:How many rows does this dataset have?"
   ]
  },
  {
   "cell_type": "code",
   "execution_count": 5,
   "id": "rising-sociology",
   "metadata": {
    "execution": {
     "iopub.execute_input": "2021-07-13T14:04:35.928145Z",
     "iopub.status.busy": "2021-07-13T14:04:35.927312Z",
     "iopub.status.idle": "2021-07-13T14:04:35.933383Z",
     "shell.execute_reply": "2021-07-13T14:04:35.932755Z",
     "shell.execute_reply.started": "2021-07-13T14:02:47.670775Z"
    },
    "papermill": {
     "duration": 0.042655,
     "end_time": "2021-07-13T14:04:35.933549",
     "exception": false,
     "start_time": "2021-07-13T14:04:35.890894",
     "status": "completed"
    },
    "tags": []
   },
   "outputs": [
    {
     "data": {
      "text/plain": [
       "119390"
      ]
     },
     "execution_count": 5,
     "metadata": {},
     "output_type": "execute_result"
    }
   ],
   "source": [
    "df.shape[0]"
   ]
  },
  {
   "cell_type": "markdown",
   "id": "trying-microphone",
   "metadata": {
    "papermill": {
     "duration": 0.035206,
     "end_time": "2021-07-13T14:04:36.001746",
     "exception": false,
     "start_time": "2021-07-13T14:04:35.966540",
     "status": "completed"
    },
    "tags": []
   },
   "source": [
    "2-4:Does this data set have missing data?if the answer is yes,which column does have the most number of missing data?"
   ]
  },
  {
   "cell_type": "code",
   "execution_count": 6,
   "id": "divine-blues",
   "metadata": {
    "execution": {
     "iopub.execute_input": "2021-07-13T14:04:36.073698Z",
     "iopub.status.busy": "2021-07-13T14:04:36.072990Z",
     "iopub.status.idle": "2021-07-13T14:04:36.273244Z",
     "shell.execute_reply": "2021-07-13T14:04:36.272638Z",
     "shell.execute_reply.started": "2021-07-13T14:02:47.677352Z"
    },
    "papermill": {
     "duration": 0.238331,
     "end_time": "2021-07-13T14:04:36.273410",
     "exception": false,
     "start_time": "2021-07-13T14:04:36.035079",
     "status": "completed"
    },
    "tags": []
   },
   "outputs": [
    {
     "data": {
      "text/plain": [
       "hotel                                  0\n",
       "is_canceled                            0\n",
       "lead_time                              0\n",
       "arrival_date_year                      0\n",
       "arrival_date_month                     0\n",
       "arrival_date_week_number               0\n",
       "arrival_date_day_of_month              0\n",
       "stays_in_weekend_nights                0\n",
       "stays_in_week_nights                   0\n",
       "adults                                 0\n",
       "children                               4\n",
       "babies                                 0\n",
       "meal                                   0\n",
       "country                              488\n",
       "market_segment                         0\n",
       "distribution_channel                   0\n",
       "is_repeated_guest                      0\n",
       "previous_cancellations                 0\n",
       "previous_bookings_not_canceled         0\n",
       "reserved_room_type                     0\n",
       "assigned_room_type                     0\n",
       "booking_changes                        0\n",
       "deposit_type                           0\n",
       "agent                              16340\n",
       "company                           112593\n",
       "days_in_waiting_list                   0\n",
       "customer_type                          0\n",
       "adr                                    0\n",
       "required_car_parking_spaces            0\n",
       "total_of_special_requests              0\n",
       "reservation_status                     0\n",
       "reservation_status_date                0\n",
       "name                                   0\n",
       "email                                  0\n",
       "phone-number                           0\n",
       "credit_card                            0\n",
       "dtype: int64"
      ]
     },
     "execution_count": 6,
     "metadata": {},
     "output_type": "execute_result"
    }
   ],
   "source": [
    "df.isna().sum()"
   ]
  },
  {
   "cell_type": "code",
   "execution_count": 7,
   "id": "applied-discount",
   "metadata": {
    "execution": {
     "iopub.execute_input": "2021-07-13T14:04:36.346592Z",
     "iopub.status.busy": "2021-07-13T14:04:36.345570Z",
     "iopub.status.idle": "2021-07-13T14:04:36.544435Z",
     "shell.execute_reply": "2021-07-13T14:04:36.543729Z",
     "shell.execute_reply.started": "2021-07-13T14:02:47.859232Z"
    },
    "papermill": {
     "duration": 0.237913,
     "end_time": "2021-07-13T14:04:36.544589",
     "exception": false,
     "start_time": "2021-07-13T14:04:36.306676",
     "status": "completed"
    },
    "tags": []
   },
   "outputs": [
    {
     "data": {
      "text/plain": [
       "'company'"
      ]
     },
     "execution_count": 7,
     "metadata": {},
     "output_type": "execute_result"
    }
   ],
   "source": [
    "df.count().idxmin()"
   ]
  },
  {
   "cell_type": "markdown",
   "id": "acknowledged-province",
   "metadata": {
    "papermill": {
     "duration": 0.03264,
     "end_time": "2021-07-13T14:04:36.610734",
     "exception": false,
     "start_time": "2021-07-13T14:04:36.578094",
     "status": "completed"
    },
    "tags": []
   },
   "source": [
    "2-5:Delet the company column from the data set."
   ]
  },
  {
   "cell_type": "code",
   "execution_count": 8,
   "id": "moving-height",
   "metadata": {
    "execution": {
     "iopub.execute_input": "2021-07-13T14:04:36.684693Z",
     "iopub.status.busy": "2021-07-13T14:04:36.684016Z",
     "iopub.status.idle": "2021-07-13T14:04:36.711977Z",
     "shell.execute_reply": "2021-07-13T14:04:36.711334Z",
     "shell.execute_reply.started": "2021-07-13T14:02:48.037109Z"
    },
    "papermill": {
     "duration": 0.067317,
     "end_time": "2021-07-13T14:04:36.712137",
     "exception": false,
     "start_time": "2021-07-13T14:04:36.644820",
     "status": "completed"
    },
    "tags": []
   },
   "outputs": [],
   "source": [
    "df.drop(axis=1,columns=\"company\",inplace=True)"
   ]
  },
  {
   "cell_type": "markdown",
   "id": "decimal-conditioning",
   "metadata": {
    "papermill": {
     "duration": 0.033129,
     "end_time": "2021-07-13T14:04:36.778477",
     "exception": false,
     "start_time": "2021-07-13T14:04:36.745348",
     "status": "completed"
    },
    "tags": []
   },
   "source": [
    "2-6which countries do have the most number of travelers?Identify the five countries having the most number of travelers."
   ]
  },
  {
   "cell_type": "code",
   "execution_count": 9,
   "id": "together-prefix",
   "metadata": {
    "execution": {
     "iopub.execute_input": "2021-07-13T14:04:36.882434Z",
     "iopub.status.busy": "2021-07-13T14:04:36.879299Z",
     "iopub.status.idle": "2021-07-13T14:04:36.887888Z",
     "shell.execute_reply": "2021-07-13T14:04:36.887316Z",
     "shell.execute_reply.started": "2021-07-13T14:02:48.061110Z"
    },
    "papermill": {
     "duration": 0.076148,
     "end_time": "2021-07-13T14:04:36.888029",
     "exception": false,
     "start_time": "2021-07-13T14:04:36.811881",
     "status": "completed"
    },
    "tags": []
   },
   "outputs": [
    {
     "data": {
      "text/plain": [
       "PRT    48590\n",
       "GBR    12129\n",
       "FRA    10415\n",
       "ESP     8568\n",
       "DEU     7287\n",
       "Name: country, dtype: int64"
      ]
     },
     "execution_count": 9,
     "metadata": {},
     "output_type": "execute_result"
    }
   ],
   "source": [
    "df[\"country\"].value_counts()[0:5]"
   ]
  },
  {
   "cell_type": "markdown",
   "id": "australian-legislature",
   "metadata": {
    "papermill": {
     "duration": 0.033106,
     "end_time": "2021-07-13T14:04:36.954379",
     "exception": false,
     "start_time": "2021-07-13T14:04:36.921273",
     "status": "completed"
    },
    "tags": []
   },
   "source": [
    "2-7:Identify the person who has the highest Rate Daily Average (ADR).\n",
    "How much is it?"
   ]
  },
  {
   "cell_type": "code",
   "execution_count": 10,
   "id": "pressed-escape",
   "metadata": {
    "execution": {
     "iopub.execute_input": "2021-07-13T14:04:37.028362Z",
     "iopub.status.busy": "2021-07-13T14:04:37.027631Z",
     "iopub.status.idle": "2021-07-13T14:04:37.034842Z",
     "shell.execute_reply": "2021-07-13T14:04:37.034280Z",
     "shell.execute_reply.started": "2021-07-13T14:02:48.096205Z"
    },
    "papermill": {
     "duration": 0.047595,
     "end_time": "2021-07-13T14:04:37.034990",
     "exception": false,
     "start_time": "2021-07-13T14:04:36.987395",
     "status": "completed"
    },
    "tags": []
   },
   "outputs": [
    {
     "name": "stdout",
     "output_type": "stream",
     "text": [
      "The name is Daniel Walter and the amount of ADR is 5400.0.\n"
     ]
    }
   ],
   "source": [
    "price=df[\"adr\"].max()\n",
    "rownum=df[\"adr\"].idxmax()\n",
    "name=df.loc[rownum][\"name\"]\n",
    "print(\"The name is {} and the amount of ADR is {}.\".format(name, price))\n",
    "\n",
    "\n"
   ]
  },
  {
   "cell_type": "markdown",
   "id": "smooth-mexican",
   "metadata": {
    "papermill": {
     "duration": 0.033185,
     "end_time": "2021-07-13T14:04:37.101690",
     "exception": false,
     "start_time": "2021-07-13T14:04:37.068505",
     "status": "completed"
    },
    "tags": []
   },
   "source": [
    "2-8:Identity the average of ADR numbers.(accuracy to two decimal places)"
   ]
  },
  {
   "cell_type": "code",
   "execution_count": 11,
   "id": "educated-section",
   "metadata": {
    "execution": {
     "iopub.execute_input": "2021-07-13T14:04:37.175816Z",
     "iopub.status.busy": "2021-07-13T14:04:37.175135Z",
     "iopub.status.idle": "2021-07-13T14:04:37.179933Z",
     "shell.execute_reply": "2021-07-13T14:04:37.180594Z",
     "shell.execute_reply.started": "2021-07-13T14:02:48.106612Z"
    },
    "papermill": {
     "duration": 0.045756,
     "end_time": "2021-07-13T14:04:37.180772",
     "exception": false,
     "start_time": "2021-07-13T14:04:37.135016",
     "status": "completed"
    },
    "tags": []
   },
   "outputs": [
    {
     "name": "stdout",
     "output_type": "stream",
     "text": [
      "101.83\n"
     ]
    }
   ],
   "source": [
    "averagea=df[\"adr\"].mean()\n",
    "averageb=round(averagea,2)\n",
    "print(averageb)"
   ]
  },
  {
   "cell_type": "markdown",
   "id": "muslim-terminal",
   "metadata": {
    "papermill": {
     "duration": 0.033689,
     "end_time": "2021-07-13T14:04:37.249142",
     "exception": false,
     "start_time": "2021-07-13T14:04:37.215453",
     "status": "completed"
    },
    "tags": []
   },
   "source": [
    "2-9:Identity the Number of nights of stay.(accuracy to two decimal places) "
   ]
  },
  {
   "cell_type": "code",
   "execution_count": 12,
   "id": "soviet-dinner",
   "metadata": {
    "execution": {
     "iopub.execute_input": "2021-07-13T14:04:37.323159Z",
     "iopub.status.busy": "2021-07-13T14:04:37.322469Z",
     "iopub.status.idle": "2021-07-13T14:04:37.345734Z",
     "shell.execute_reply": "2021-07-13T14:04:37.346300Z",
     "shell.execute_reply.started": "2021-07-13T14:02:48.115305Z"
    },
    "papermill": {
     "duration": 0.063365,
     "end_time": "2021-07-13T14:04:37.346471",
     "exception": false,
     "start_time": "2021-07-13T14:04:37.283106",
     "status": "completed"
    },
    "tags": []
   },
   "outputs": [
    {
     "name": "stdout",
     "output_type": "stream",
     "text": [
      "3.43\n"
     ]
    }
   ],
   "source": [
    "total = df['stays_in_weekend_nights'] + df['stays_in_week_nights']\n",
    "average=total.mean()\n",
    "average=round(average,2)\n",
    "print(average)"
   ]
  },
  {
   "cell_type": "markdown",
   "id": "political-hotel",
   "metadata": {
    "papermill": {
     "duration": 0.035657,
     "end_time": "2021-07-13T14:04:37.416408",
     "exception": false,
     "start_time": "2021-07-13T14:04:37.380751",
     "status": "completed"
    },
    "tags": []
   },
   "source": [
    "2-10:Identity the names and the email addresses of people who have 5  special requests."
   ]
  },
  {
   "cell_type": "code",
   "execution_count": 13,
   "id": "authentic-final",
   "metadata": {
    "execution": {
     "iopub.execute_input": "2021-07-13T14:04:37.490120Z",
     "iopub.status.busy": "2021-07-13T14:04:37.489370Z",
     "iopub.status.idle": "2021-07-13T14:04:37.510298Z",
     "shell.execute_reply": "2021-07-13T14:04:37.510828Z",
     "shell.execute_reply.started": "2021-07-13T14:02:48.124114Z"
    },
    "papermill": {
     "duration": 0.059541,
     "end_time": "2021-07-13T14:04:37.511028",
     "exception": false,
     "start_time": "2021-07-13T14:04:37.451487",
     "status": "completed"
    },
    "tags": []
   },
   "outputs": [
    {
     "data": {
      "text/html": [
       "<div>\n",
       "<style scoped>\n",
       "    .dataframe tbody tr th:only-of-type {\n",
       "        vertical-align: middle;\n",
       "    }\n",
       "\n",
       "    .dataframe tbody tr th {\n",
       "        vertical-align: top;\n",
       "    }\n",
       "\n",
       "    .dataframe thead th {\n",
       "        text-align: right;\n",
       "    }\n",
       "</style>\n",
       "<table border=\"1\" class=\"dataframe\">\n",
       "  <thead>\n",
       "    <tr style=\"text-align: right;\">\n",
       "      <th></th>\n",
       "      <th>name</th>\n",
       "      <th>email</th>\n",
       "      <th>total_of_special_requests</th>\n",
       "    </tr>\n",
       "  </thead>\n",
       "  <tbody>\n",
       "    <tr>\n",
       "      <th>7860</th>\n",
       "      <td>Amanda Harper</td>\n",
       "      <td>Amanda.H66@yahoo.com</td>\n",
       "      <td>5</td>\n",
       "    </tr>\n",
       "    <tr>\n",
       "      <th>11125</th>\n",
       "      <td>Laura Sanders</td>\n",
       "      <td>Sanders_Laura@hotmail.com</td>\n",
       "      <td>5</td>\n",
       "    </tr>\n",
       "    <tr>\n",
       "      <th>14596</th>\n",
       "      <td>Tommy Ortiz</td>\n",
       "      <td>Tommy_O@hotmail.com</td>\n",
       "      <td>5</td>\n",
       "    </tr>\n",
       "    <tr>\n",
       "      <th>14921</th>\n",
       "      <td>Gilbert Miller</td>\n",
       "      <td>Miller.Gilbert@aol.com</td>\n",
       "      <td>5</td>\n",
       "    </tr>\n",
       "    <tr>\n",
       "      <th>14922</th>\n",
       "      <td>Timothy Torres</td>\n",
       "      <td>TTorres@protonmail.com</td>\n",
       "      <td>5</td>\n",
       "    </tr>\n",
       "    <tr>\n",
       "      <th>24630</th>\n",
       "      <td>Jennifer Weaver</td>\n",
       "      <td>Jennifer_W@aol.com</td>\n",
       "      <td>5</td>\n",
       "    </tr>\n",
       "    <tr>\n",
       "      <th>27288</th>\n",
       "      <td>Crystal Horton</td>\n",
       "      <td>Crystal.H@mail.com</td>\n",
       "      <td>5</td>\n",
       "    </tr>\n",
       "    <tr>\n",
       "      <th>27477</th>\n",
       "      <td>Brittney Burke</td>\n",
       "      <td>Burke_Brittney16@att.com</td>\n",
       "      <td>5</td>\n",
       "    </tr>\n",
       "    <tr>\n",
       "      <th>29906</th>\n",
       "      <td>Cynthia Cabrera</td>\n",
       "      <td>Cabrera.Cynthia@xfinity.com</td>\n",
       "      <td>5</td>\n",
       "    </tr>\n",
       "    <tr>\n",
       "      <th>29949</th>\n",
       "      <td>Sarah Floyd</td>\n",
       "      <td>Sarah_F@gmail.com</td>\n",
       "      <td>5</td>\n",
       "    </tr>\n",
       "    <tr>\n",
       "      <th>32267</th>\n",
       "      <td>Michelle Villa</td>\n",
       "      <td>Michelle.Villa@aol.com</td>\n",
       "      <td>5</td>\n",
       "    </tr>\n",
       "    <tr>\n",
       "      <th>39027</th>\n",
       "      <td>Nichole Hebert</td>\n",
       "      <td>Hebert.Nichole@gmail.com</td>\n",
       "      <td>5</td>\n",
       "    </tr>\n",
       "    <tr>\n",
       "      <th>39129</th>\n",
       "      <td>Lindsey Mckenzie</td>\n",
       "      <td>Lindsey.Mckenzie@att.com</td>\n",
       "      <td>5</td>\n",
       "    </tr>\n",
       "    <tr>\n",
       "      <th>39525</th>\n",
       "      <td>Ashley Edwards</td>\n",
       "      <td>Edwards.Ashley@yahoo.com</td>\n",
       "      <td>5</td>\n",
       "    </tr>\n",
       "    <tr>\n",
       "      <th>70114</th>\n",
       "      <td>Christopher Torres</td>\n",
       "      <td>Torres.Christopher@gmail.com</td>\n",
       "      <td>5</td>\n",
       "    </tr>\n",
       "    <tr>\n",
       "      <th>78819</th>\n",
       "      <td>Mrs. Tara Sullivan DVM</td>\n",
       "      <td>Mrs..DVM@xfinity.com</td>\n",
       "      <td>5</td>\n",
       "    </tr>\n",
       "    <tr>\n",
       "      <th>78820</th>\n",
       "      <td>Michaela Brown</td>\n",
       "      <td>MichaelaBrown@att.com</td>\n",
       "      <td>5</td>\n",
       "    </tr>\n",
       "    <tr>\n",
       "      <th>78822</th>\n",
       "      <td>Kurt Maldonado MD</td>\n",
       "      <td>KMD15@xfinity.com</td>\n",
       "      <td>5</td>\n",
       "    </tr>\n",
       "    <tr>\n",
       "      <th>97072</th>\n",
       "      <td>Jason Richardson</td>\n",
       "      <td>Jason.R@zoho.com</td>\n",
       "      <td>5</td>\n",
       "    </tr>\n",
       "    <tr>\n",
       "      <th>97099</th>\n",
       "      <td>Terri Hurley</td>\n",
       "      <td>THurley@xfinity.com</td>\n",
       "      <td>5</td>\n",
       "    </tr>\n",
       "    <tr>\n",
       "      <th>97261</th>\n",
       "      <td>Mrs. Caitlin Webb</td>\n",
       "      <td>Mrs._W@comcast.net</td>\n",
       "      <td>5</td>\n",
       "    </tr>\n",
       "    <tr>\n",
       "      <th>98410</th>\n",
       "      <td>Holly Arroyo</td>\n",
       "      <td>Arroyo_Holly@mail.com</td>\n",
       "      <td>5</td>\n",
       "    </tr>\n",
       "    <tr>\n",
       "      <th>98674</th>\n",
       "      <td>Denise Campbell</td>\n",
       "      <td>Denise_C@gmail.com</td>\n",
       "      <td>5</td>\n",
       "    </tr>\n",
       "    <tr>\n",
       "      <th>99887</th>\n",
       "      <td>Michael Smith</td>\n",
       "      <td>Michael.S42@aol.com</td>\n",
       "      <td>5</td>\n",
       "    </tr>\n",
       "    <tr>\n",
       "      <th>99888</th>\n",
       "      <td>Dr. Trevor Sellers</td>\n",
       "      <td>Dr._S@aol.com</td>\n",
       "      <td>5</td>\n",
       "    </tr>\n",
       "    <tr>\n",
       "      <th>101569</th>\n",
       "      <td>Kayla Murphy</td>\n",
       "      <td>Kayla.Murphy@yahoo.com</td>\n",
       "      <td>5</td>\n",
       "    </tr>\n",
       "    <tr>\n",
       "      <th>102061</th>\n",
       "      <td>Taylor Martinez</td>\n",
       "      <td>Taylor.Martinez@hotmail.com</td>\n",
       "      <td>5</td>\n",
       "    </tr>\n",
       "    <tr>\n",
       "      <th>109511</th>\n",
       "      <td>Charles Wilson</td>\n",
       "      <td>Charles_Wilson@yahoo.com</td>\n",
       "      <td>5</td>\n",
       "    </tr>\n",
       "    <tr>\n",
       "      <th>109590</th>\n",
       "      <td>Tyler Allison</td>\n",
       "      <td>Tyler.A@protonmail.com</td>\n",
       "      <td>5</td>\n",
       "    </tr>\n",
       "    <tr>\n",
       "      <th>110082</th>\n",
       "      <td>Matthew Bailey</td>\n",
       "      <td>Matthew_Bailey@aol.com</td>\n",
       "      <td>5</td>\n",
       "    </tr>\n",
       "    <tr>\n",
       "      <th>110083</th>\n",
       "      <td>Charlotte Acevedo</td>\n",
       "      <td>Charlotte_A@verizon.com</td>\n",
       "      <td>5</td>\n",
       "    </tr>\n",
       "    <tr>\n",
       "      <th>111909</th>\n",
       "      <td>Darrell Brennan</td>\n",
       "      <td>Brennan_Darrell51@hotmail.com</td>\n",
       "      <td>5</td>\n",
       "    </tr>\n",
       "    <tr>\n",
       "      <th>111911</th>\n",
       "      <td>Melinda Jensen</td>\n",
       "      <td>MelindaJensen@zoho.com</td>\n",
       "      <td>5</td>\n",
       "    </tr>\n",
       "    <tr>\n",
       "      <th>113915</th>\n",
       "      <td>Terry Arnold</td>\n",
       "      <td>Arnold.Terry@zoho.com</td>\n",
       "      <td>5</td>\n",
       "    </tr>\n",
       "    <tr>\n",
       "      <th>114770</th>\n",
       "      <td>Mary Nguyen</td>\n",
       "      <td>Nguyen.Mary@protonmail.com</td>\n",
       "      <td>5</td>\n",
       "    </tr>\n",
       "    <tr>\n",
       "      <th>114909</th>\n",
       "      <td>Lindsay Cuevas</td>\n",
       "      <td>Lindsay.Cuevas40@mail.com</td>\n",
       "      <td>5</td>\n",
       "    </tr>\n",
       "    <tr>\n",
       "      <th>116455</th>\n",
       "      <td>Cynthia Hernandez</td>\n",
       "      <td>CynthiaHernandez@xfinity.com</td>\n",
       "      <td>5</td>\n",
       "    </tr>\n",
       "    <tr>\n",
       "      <th>116457</th>\n",
       "      <td>Angela Hawkins</td>\n",
       "      <td>Angela_H@gmail.com</td>\n",
       "      <td>5</td>\n",
       "    </tr>\n",
       "    <tr>\n",
       "      <th>118817</th>\n",
       "      <td>Sue Lawson</td>\n",
       "      <td>Sue.L52@comcast.net</td>\n",
       "      <td>5</td>\n",
       "    </tr>\n",
       "    <tr>\n",
       "      <th>119161</th>\n",
       "      <td>Alyssa Richards</td>\n",
       "      <td>Alyssa_Richards@aol.com</td>\n",
       "      <td>5</td>\n",
       "    </tr>\n",
       "  </tbody>\n",
       "</table>\n",
       "</div>"
      ],
      "text/plain": [
       "                          name                          email  \\\n",
       "7860             Amanda Harper           Amanda.H66@yahoo.com   \n",
       "11125            Laura Sanders      Sanders_Laura@hotmail.com   \n",
       "14596              Tommy Ortiz            Tommy_O@hotmail.com   \n",
       "14921           Gilbert Miller         Miller.Gilbert@aol.com   \n",
       "14922           Timothy Torres         TTorres@protonmail.com   \n",
       "24630          Jennifer Weaver             Jennifer_W@aol.com   \n",
       "27288           Crystal Horton             Crystal.H@mail.com   \n",
       "27477           Brittney Burke       Burke_Brittney16@att.com   \n",
       "29906          Cynthia Cabrera    Cabrera.Cynthia@xfinity.com   \n",
       "29949              Sarah Floyd              Sarah_F@gmail.com   \n",
       "32267           Michelle Villa         Michelle.Villa@aol.com   \n",
       "39027           Nichole Hebert       Hebert.Nichole@gmail.com   \n",
       "39129         Lindsey Mckenzie       Lindsey.Mckenzie@att.com   \n",
       "39525           Ashley Edwards       Edwards.Ashley@yahoo.com   \n",
       "70114       Christopher Torres   Torres.Christopher@gmail.com   \n",
       "78819   Mrs. Tara Sullivan DVM           Mrs..DVM@xfinity.com   \n",
       "78820           Michaela Brown          MichaelaBrown@att.com   \n",
       "78822        Kurt Maldonado MD              KMD15@xfinity.com   \n",
       "97072         Jason Richardson               Jason.R@zoho.com   \n",
       "97099             Terri Hurley            THurley@xfinity.com   \n",
       "97261        Mrs. Caitlin Webb             Mrs._W@comcast.net   \n",
       "98410             Holly Arroyo          Arroyo_Holly@mail.com   \n",
       "98674          Denise Campbell             Denise_C@gmail.com   \n",
       "99887            Michael Smith            Michael.S42@aol.com   \n",
       "99888       Dr. Trevor Sellers                  Dr._S@aol.com   \n",
       "101569            Kayla Murphy         Kayla.Murphy@yahoo.com   \n",
       "102061         Taylor Martinez    Taylor.Martinez@hotmail.com   \n",
       "109511          Charles Wilson       Charles_Wilson@yahoo.com   \n",
       "109590           Tyler Allison         Tyler.A@protonmail.com   \n",
       "110082          Matthew Bailey         Matthew_Bailey@aol.com   \n",
       "110083       Charlotte Acevedo        Charlotte_A@verizon.com   \n",
       "111909         Darrell Brennan  Brennan_Darrell51@hotmail.com   \n",
       "111911          Melinda Jensen         MelindaJensen@zoho.com   \n",
       "113915            Terry Arnold          Arnold.Terry@zoho.com   \n",
       "114770             Mary Nguyen     Nguyen.Mary@protonmail.com   \n",
       "114909          Lindsay Cuevas      Lindsay.Cuevas40@mail.com   \n",
       "116455       Cynthia Hernandez   CynthiaHernandez@xfinity.com   \n",
       "116457          Angela Hawkins             Angela_H@gmail.com   \n",
       "118817              Sue Lawson            Sue.L52@comcast.net   \n",
       "119161         Alyssa Richards        Alyssa_Richards@aol.com   \n",
       "\n",
       "        total_of_special_requests  \n",
       "7860                            5  \n",
       "11125                           5  \n",
       "14596                           5  \n",
       "14921                           5  \n",
       "14922                           5  \n",
       "24630                           5  \n",
       "27288                           5  \n",
       "27477                           5  \n",
       "29906                           5  \n",
       "29949                           5  \n",
       "32267                           5  \n",
       "39027                           5  \n",
       "39129                           5  \n",
       "39525                           5  \n",
       "70114                           5  \n",
       "78819                           5  \n",
       "78820                           5  \n",
       "78822                           5  \n",
       "97072                           5  \n",
       "97099                           5  \n",
       "97261                           5  \n",
       "98410                           5  \n",
       "98674                           5  \n",
       "99887                           5  \n",
       "99888                           5  \n",
       "101569                          5  \n",
       "102061                          5  \n",
       "109511                          5  \n",
       "109590                          5  \n",
       "110082                          5  \n",
       "110083                          5  \n",
       "111909                          5  \n",
       "111911                          5  \n",
       "113915                          5  \n",
       "114770                          5  \n",
       "114909                          5  \n",
       "116455                          5  \n",
       "116457                          5  \n",
       "118817                          5  \n",
       "119161                          5  "
      ]
     },
     "execution_count": 13,
     "metadata": {},
     "output_type": "execute_result"
    }
   ],
   "source": [
    "new=df[df[\"total_of_special_requests\"]==5]\n",
    "new[[\"name\",\"email\",\"total_of_special_requests\"]]\n",
    "\n",
    "\n",
    "\n"
   ]
  },
  {
   "cell_type": "markdown",
   "id": "rough-marriage",
   "metadata": {
    "papermill": {
     "duration": 0.035473,
     "end_time": "2021-07-13T14:04:37.582133",
     "exception": false,
     "start_time": "2021-07-13T14:04:37.546660",
     "status": "completed"
    },
    "tags": []
   },
   "source": []
  },
  {
   "cell_type": "markdown",
   "id": "retained-portfolio",
   "metadata": {
    "papermill": {
     "duration": 0.036286,
     "end_time": "2021-07-13T14:04:37.654221",
     "exception": false,
     "start_time": "2021-07-13T14:04:37.617935",
     "status": "completed"
    },
    "tags": []
   },
   "source": [
    "2-11:What are the most repeated familynames?Identity 5 familyname which are the most repeated."
   ]
  },
  {
   "cell_type": "code",
   "execution_count": 14,
   "id": "boolean-disorder",
   "metadata": {
    "execution": {
     "iopub.execute_input": "2021-07-13T14:04:37.730096Z",
     "iopub.status.busy": "2021-07-13T14:04:37.729313Z",
     "iopub.status.idle": "2021-07-13T14:04:37.832675Z",
     "shell.execute_reply": "2021-07-13T14:04:37.833348Z",
     "shell.execute_reply.started": "2021-07-13T14:02:48.146774Z"
    },
    "papermill": {
     "duration": 0.142931,
     "end_time": "2021-07-13T14:04:37.833606",
     "exception": false,
     "start_time": "2021-07-13T14:04:37.690675",
     "status": "completed"
    },
    "tags": []
   },
   "outputs": [
    {
     "data": {
      "text/plain": [
       "Smith       2510\n",
       "Johnson     1998\n",
       "Williams    1628\n",
       "Jones       1441\n",
       "Brown       1433\n",
       "Name: familynames, dtype: int64"
      ]
     },
     "execution_count": 14,
     "metadata": {},
     "output_type": "execute_result"
    }
   ],
   "source": [
    "new=df[\"name\"].apply(lambda  x:x.split()[1])\n",
    "df[\"familynames\"]=new\n",
    "df[\"familynames\"].value_counts()[0:5]"
   ]
  },
  {
   "cell_type": "markdown",
   "id": "metropolitan-power",
   "metadata": {
    "papermill": {
     "duration": 0.035979,
     "end_time": "2021-07-13T14:04:37.905895",
     "exception": false,
     "start_time": "2021-07-13T14:04:37.869916",
     "status": "completed"
    },
    "tags": []
   },
   "source": [
    "2-12:Identity travelers having the most number of babies and chidren."
   ]
  },
  {
   "cell_type": "code",
   "execution_count": 15,
   "id": "detailed-value",
   "metadata": {
    "execution": {
     "iopub.execute_input": "2021-07-13T14:04:37.983172Z",
     "iopub.status.busy": "2021-07-13T14:04:37.982444Z",
     "iopub.status.idle": "2021-07-13T14:04:38.102698Z",
     "shell.execute_reply": "2021-07-13T14:04:38.103263Z",
     "shell.execute_reply.started": "2021-07-13T14:02:48.239004Z"
    },
    "papermill": {
     "duration": 0.161003,
     "end_time": "2021-07-13T14:04:38.103467",
     "exception": false,
     "start_time": "2021-07-13T14:04:37.942464",
     "status": "completed"
    },
    "tags": []
   },
   "outputs": [
    {
     "name": "stdout",
     "output_type": "stream",
     "text": [
      "              hotel  is_canceled  lead_time  arrival_date_year  \\\n",
      "328    Resort Hotel            1         55               2015   \n",
      "46619    City Hotel            0         37               2016   \n",
      "\n",
      "      arrival_date_month  arrival_date_week_number  arrival_date_day_of_month  \\\n",
      "328                 July                        29                         12   \n",
      "46619            January                         3                         12   \n",
      "\n",
      "       stays_in_weekend_nights  stays_in_week_nights  adults  ...  \\\n",
      "328                          4                    10       2  ...   \n",
      "46619                        0                     2       2  ...   \n",
      "\n",
      "       required_car_parking_spaces  total_of_special_requests  \\\n",
      "328                              0                          1   \n",
      "46619                            0                          1   \n",
      "\n",
      "      reservation_status reservation_status_date             name  \\\n",
      "328              No-Show              2015-07-12    Jamie Ramirez   \n",
      "46619          Check-Out              2016-01-14  Nicholas Parker   \n",
      "\n",
      "                               email  phone-number       credit_card  \\\n",
      "328          Ramirez_Jamie22@aol.com  268-823-5667  ************7600   \n",
      "46619  Parker.Nicholas57@hotmail.com  440-692-0519  ************4291   \n",
      "\n",
      "       familynames   new  \n",
      "328        Ramirez  10.0  \n",
      "46619       Parker  10.0  \n",
      "\n",
      "[2 rows x 37 columns]\n"
     ]
    }
   ],
   "source": [
    "df[\"new\"]=df[\"babies\"]+df[\"children\"]\n",
    "df[\"new\"].max()\n",
    "name=df[df[\"new\"]==10]\n",
    "print(name)\n"
   ]
  },
  {
   "cell_type": "markdown",
   "id": "administrative-conflict",
   "metadata": {
    "papermill": {
     "duration": 0.036134,
     "end_time": "2021-07-13T14:04:38.176627",
     "exception": false,
     "start_time": "2021-07-13T14:04:38.140493",
     "status": "completed"
    },
    "tags": []
   },
   "source": [
    "2-13:Identity the phonecode of areas which have the most number of reservations."
   ]
  },
  {
   "cell_type": "markdown",
   "id": "endangered-boxing",
   "metadata": {
    "papermill": {
     "duration": 0.035851,
     "end_time": "2021-07-13T14:04:38.248920",
     "exception": false,
     "start_time": "2021-07-13T14:04:38.213069",
     "status": "completed"
    },
    "tags": []
   },
   "source": []
  },
  {
   "cell_type": "code",
   "execution_count": 16,
   "id": "superb-mumbai",
   "metadata": {
    "execution": {
     "iopub.execute_input": "2021-07-13T14:04:38.328553Z",
     "iopub.status.busy": "2021-07-13T14:04:38.327427Z",
     "iopub.status.idle": "2021-07-13T14:04:38.415279Z",
     "shell.execute_reply": "2021-07-13T14:04:38.414668Z",
     "shell.execute_reply.started": "2021-07-13T14:02:48.307841Z"
    },
    "papermill": {
     "duration": 0.13015,
     "end_time": "2021-07-13T14:04:38.415454",
     "exception": false,
     "start_time": "2021-07-13T14:04:38.285304",
     "status": "completed"
    },
    "tags": []
   },
   "outputs": [
    {
     "data": {
      "text/plain": [
       "799    168\n",
       "185    167\n",
       "541    166\n",
       "Name: phone-number, dtype: int64"
      ]
     },
     "execution_count": 16,
     "metadata": {},
     "output_type": "execute_result"
    }
   ],
   "source": [
    "df[\"phone-number\"].apply(lambda   x:x[0:3]).value_counts()[0:3]\n",
    "\n"
   ]
  },
  {
   "cell_type": "markdown",
   "id": "herbal-colony",
   "metadata": {
    "papermill": {
     "duration": 0.036265,
     "end_time": "2021-07-13T14:04:38.488176",
     "exception": false,
     "start_time": "2021-07-13T14:04:38.451911",
     "status": "completed"
    },
    "tags": []
   },
   "source": [
    "# Exploratory Data Analysis"
   ]
  },
  {
   "cell_type": "markdown",
   "id": "electric-mirror",
   "metadata": {
    "papermill": {
     "duration": 0.039371,
     "end_time": "2021-07-13T14:04:38.563938",
     "exception": false,
     "start_time": "2021-07-13T14:04:38.524567",
     "status": "completed"
    },
    "tags": []
   },
   "source": [
    "# duration of stay"
   ]
  },
  {
   "cell_type": "code",
   "execution_count": 17,
   "id": "solar-filename",
   "metadata": {
    "execution": {
     "iopub.execute_input": "2021-07-13T14:04:38.645637Z",
     "iopub.status.busy": "2021-07-13T14:04:38.644917Z",
     "iopub.status.idle": "2021-07-13T14:04:38.899116Z",
     "shell.execute_reply": "2021-07-13T14:04:38.899617Z",
     "shell.execute_reply.started": "2021-07-13T14:02:48.388284Z"
    },
    "papermill": {
     "duration": 0.298868,
     "end_time": "2021-07-13T14:04:38.899840",
     "exception": false,
     "start_time": "2021-07-13T14:04:38.600972",
     "status": "completed"
    },
    "tags": []
   },
   "outputs": [
    {
     "name": "stderr",
     "output_type": "stream",
     "text": [
      "/opt/conda/lib/python3.7/site-packages/seaborn/distributions.py:2557: FutureWarning: `distplot` is a deprecated function and will be removed in a future version. Please adapt your code to use either `displot` (a figure-level function with similar flexibility) or `histplot` (an axes-level function for histograms).\n",
      "  warnings.warn(msg, FutureWarning)\n"
     ]
    },
    {
     "data": {
      "text/plain": [
       "Text(0.5, 1.0, 'duration of stay')"
      ]
     },
     "execution_count": 17,
     "metadata": {},
     "output_type": "execute_result"
    },
    {
     "data": {
      "image/png": "[encoded data removed]",
      "text/plain": [
       "<Figure size 800x400 with 1 Axes>"
      ]
     },
     "metadata": {
      "needs_background": "light"
     },
     "output_type": "display_data"
    }
   ],
   "source": [
    "df[\"duration of stay\"] = df['stays_in_weekend_nights'] + df['stays_in_week_nights']\n",
    "fig=plt.figure(figsize=(8,4),dpi=100)\n",
    "sns.distplot(df[\"duration of stay\"], kde=False,hist_kws=dict(edgecolor=\"w\",linewidth=3),bins=25)\n",
    "plt.title(\"duration of stay\")"
   ]
  },
  {
   "cell_type": "markdown",
   "id": "completed-cooling",
   "metadata": {
    "papermill": {
     "duration": 0.038393,
     "end_time": "2021-07-13T14:04:38.981525",
     "exception": false,
     "start_time": "2021-07-13T14:04:38.943132",
     "status": "completed"
    },
    "tags": []
   },
   "source": [
    " ***As we see,most people stayed under 5 days and few people stayed more than 10 days.***"
   ]
  },
  {
   "cell_type": "markdown",
   "id": "novel-console",
   "metadata": {
    "papermill": {
     "duration": 0.038305,
     "end_time": "2021-07-13T14:04:39.059048",
     "exception": false,
     "start_time": "2021-07-13T14:04:39.020743",
     "status": "completed"
    },
    "tags": []
   },
   "source": [
    "# Which hotel have more cancellations?"
   ]
  },
  {
   "cell_type": "code",
   "execution_count": 18,
   "id": "amazing-auction",
   "metadata": {
    "execution": {
     "iopub.execute_input": "2021-07-13T14:04:39.178948Z",
     "iopub.status.busy": "2021-07-13T14:04:39.171530Z",
     "iopub.status.idle": "2021-07-13T14:04:40.790773Z",
     "shell.execute_reply": "2021-07-13T14:04:40.790056Z",
     "shell.execute_reply.started": "2021-07-13T14:02:48.642262Z"
    },
    "papermill": {
     "duration": 1.691583,
     "end_time": "2021-07-13T14:04:40.790961",
     "exception": false,
     "start_time": "2021-07-13T14:04:39.099378",
     "status": "completed"
    },
    "tags": []
   },
   "outputs": [
    {
     "data": {
      "text/plain": [
       "<AxesSubplot:xlabel='hotel', ylabel='is_canceled'>"
      ]
     },
     "execution_count": 18,
     "metadata": {},
     "output_type": "execute_result"
    },
    {
     "data": {
      "image/png": "[encoded data removed]",
      "text/plain": [
       "<Figure size 432x288 with 1 Axes>"
      ]
     },
     "metadata": {
      "needs_background": "light"
     },
     "output_type": "display_data"
    }
   ],
   "source": [
    "sns.barplot(data=df,x=\"hotel\",y=\"is_canceled\")"
   ]
  },
  {
   "cell_type": "markdown",
   "id": "previous-beaver",
   "metadata": {
    "papermill": {
     "duration": 0.0406,
     "end_time": "2021-07-13T14:04:40.871199",
     "exception": false,
     "start_time": "2021-07-13T14:04:40.830599",
     "status": "completed"
    },
    "tags": []
   },
   "source": [
    "**As we see,city hotel have more number of cancellations.**"
   ]
  },
  {
   "cell_type": "markdown",
   "id": "differential-consolidation",
   "metadata": {
    "papermill": {
     "duration": 0.039003,
     "end_time": "2021-07-13T14:04:40.952208",
     "exception": false,
     "start_time": "2021-07-13T14:04:40.913205",
     "status": "completed"
    },
    "tags": []
   },
   "source": [
    "# the busiest month"
   ]
  },
  {
   "cell_type": "code",
   "execution_count": 19,
   "id": "coordinated-associate",
   "metadata": {
    "execution": {
     "iopub.execute_input": "2021-07-13T14:04:41.041072Z",
     "iopub.status.busy": "2021-07-13T14:04:41.040273Z",
     "iopub.status.idle": "2021-07-13T14:04:41.335176Z",
     "shell.execute_reply": "2021-07-13T14:04:41.334553Z",
     "shell.execute_reply.started": "2021-07-13T14:02:50.073774Z"
    },
    "papermill": {
     "duration": 0.342087,
     "end_time": "2021-07-13T14:04:41.335339",
     "exception": false,
     "start_time": "2021-07-13T14:04:40.993252",
     "status": "completed"
    },
    "tags": []
   },
   "outputs": [
    {
     "name": "stderr",
     "output_type": "stream",
     "text": [
      "/opt/conda/lib/python3.7/site-packages/seaborn/_decorators.py:43: FutureWarning: Pass the following variables as keyword args: x, y. From version 0.12, the only valid positional argument will be `data`, and passing other arguments without an explicit keyword will result in an error or misinterpretation.\n",
      "  FutureWarning\n"
     ]
    },
    {
     "data": {
      "text/plain": [
       "<AxesSubplot:>"
      ]
     },
     "execution_count": 19,
     "metadata": {},
     "output_type": "execute_result"
    },
    {
     "data": {
      "image/png": "[encoded data removed]",
      "text/plain": [
       "<Figure size 1800x600 with 1 Axes>"
      ]
     },
     "metadata": {
      "needs_background": "light"
     },
     "output_type": "display_data"
    }
   ],
   "source": [
    "df_not_canceled = df[df['is_canceled'] == 0]\n",
    "import calendar\n",
    "\n",
    "sorted_months = df_not_canceled['arrival_date_month'].value_counts().reindex(calendar.month_name[1:])\n",
    "fig=plt.figure(figsize=(18,6),dpi=100)\n",
    "x = sorted_months.index\n",
    "y = sorted_months/sorted_months.sum()*100\n",
    "sns.lineplot(x, y.values)"
   ]
  },
  {
   "cell_type": "markdown",
   "id": "rising-teaching",
   "metadata": {
    "papermill": {
     "duration": 0.041894,
     "end_time": "2021-07-13T14:04:41.419948",
     "exception": false,
     "start_time": "2021-07-13T14:04:41.378054",
     "status": "completed"
    },
    "tags": []
   },
   "source": [
    "**As we can see most bookings were made from July to August. And the least bookings were made at the start and end of the year.**"
   ]
  },
  {
   "cell_type": "markdown",
   "id": "informational-singer",
   "metadata": {
    "papermill": {
     "duration": 0.041746,
     "end_time": "2021-07-13T14:04:41.504337",
     "exception": false,
     "start_time": "2021-07-13T14:04:41.462591",
     "status": "completed"
    },
    "tags": []
   },
   "source": [
    "# the stay duration trend for each hotel type"
   ]
  },
  {
   "cell_type": "code",
   "execution_count": 20,
   "id": "needed-parliament",
   "metadata": {
    "execution": {
     "iopub.execute_input": "2021-07-13T14:04:41.598283Z",
     "iopub.status.busy": "2021-07-13T14:04:41.597190Z",
     "iopub.status.idle": "2021-07-13T14:04:41.939500Z",
     "shell.execute_reply": "2021-07-13T14:04:41.938906Z",
     "shell.execute_reply.started": "2021-07-13T14:04:03.102268Z"
    },
    "papermill": {
     "duration": 0.392941,
     "end_time": "2021-07-13T14:04:41.939678",
     "exception": false,
     "start_time": "2021-07-13T14:04:41.546737",
     "status": "completed"
    },
    "tags": []
   },
   "outputs": [
    {
     "name": "stderr",
     "output_type": "stream",
     "text": [
      "/opt/conda/lib/python3.7/site-packages/pandas/core/indexing.py:1597: SettingWithCopyWarning: \n",
      "A value is trying to be set on a copy of a slice from a DataFrame.\n",
      "Try using .loc[row_indexer,col_indexer] = value instead\n",
      "\n",
      "See the caveats in the documentation: https://pandas.pydata.org/pandas-docs/stable/user_guide/indexing.html#returning-a-view-versus-a-copy\n",
      "  self.obj[key] = value\n",
      "/opt/conda/lib/python3.7/site-packages/pandas/core/indexing.py:1676: SettingWithCopyWarning: \n",
      "A value is trying to be set on a copy of a slice from a DataFrame.\n",
      "Try using .loc[row_indexer,col_indexer] = value instead\n",
      "\n",
      "See the caveats in the documentation: https://pandas.pydata.org/pandas-docs/stable/user_guide/indexing.html#returning-a-view-versus-a-copy\n",
      "  self._setitem_single_column(ilocs[0], value, pi)\n"
     ]
    },
    {
     "data": {
      "text/plain": [
       "<AxesSubplot:title={'center':'Hotel wise night stay duration (Top 10)'}, xlabel='total_nights', ylabel='count'>"
      ]
     },
     "execution_count": 20,
     "metadata": {},
     "output_type": "execute_result"
    },
    {
     "data": {
      "image/png": "[encoded data removed]",
      "text/plain": [
       "<Figure size 864x432 with 1 Axes>"
      ]
     },
     "metadata": {
      "needs_background": "light"
     },
     "output_type": "display_data"
    }
   ],
   "source": [
    "df_not_canceled.loc[:,'total_nights'] = df_not_canceled['stays_in_weekend_nights']+ df_not_canceled['stays_in_week_nights']\n",
    "\n",
    "fig, ax = plt.subplots(figsize=(12,6))\n",
    "ax.set_xlabel('No of Nights')\n",
    "ax.set_ylabel('No of Nights')\n",
    "ax.set_title('Hotel wise night stay duration (Top 10)')\n",
    "sns.countplot(x='total_nights', hue='hotel', data=df_not_canceled,\n",
    "              order = df_not_canceled.total_nights.value_counts().iloc[:10].index,ax=ax)\n"
   ]
  },
  {
   "cell_type": "markdown",
   "id": "tracked-portrait",
   "metadata": {
    "papermill": {
     "duration": 0.04337,
     "end_time": "2021-07-13T14:04:42.027074",
     "exception": false,
     "start_time": "2021-07-13T14:04:41.983704",
     "status": "completed"
    },
    "tags": []
   },
   "source": [
    "**As we see,for city hotel the most stay duration is one,three and two and for resort hotel the most stay duration is one, two and seven.**"
   ]
  },
  {
   "cell_type": "markdown",
   "id": "frequent-conversation",
   "metadata": {
    "papermill": {
     "duration": 0.044082,
     "end_time": "2021-07-13T14:04:42.114824",
     "exception": false,
     "start_time": "2021-07-13T14:04:42.070742",
     "status": "completed"
    },
    "tags": []
   },
   "source": []
  },
  {
   "cell_type": "markdown",
   "id": "spoken-arbitration",
   "metadata": {
    "papermill": {
     "duration": 0.043883,
     "end_time": "2021-07-13T14:04:42.202514",
     "exception": false,
     "start_time": "2021-07-13T14:04:42.158631",
     "status": "completed"
    },
    "tags": []
   },
   "source": []
  },
  {
   "cell_type": "markdown",
   "id": "intimate-keyboard",
   "metadata": {
    "papermill": {
     "duration": 0.043375,
     "end_time": "2021-07-13T14:04:42.290560",
     "exception": false,
     "start_time": "2021-07-13T14:04:42.247185",
     "status": "completed"
    },
    "tags": []
   },
   "source": []
  },
  {
   "cell_type": "markdown",
   "id": "referenced-france",
   "metadata": {
    "papermill": {
     "duration": 0.043169,
     "end_time": "2021-07-13T14:04:42.377221",
     "exception": false,
     "start_time": "2021-07-13T14:04:42.334052",
     "status": "completed"
    },
    "tags": []
   },
   "source": []
  }
 ],
 "metadata": {
  "kernelspec": {
   "display_name": "Python 3 (ipykernel)",
   "language": "python",
   "name": "python3"
  },
  "language_info": {
   "codemirror_mode": {
    "name": "ipython",
    "version": 3
   },
   "file_extension": ".py",
   "mimetype": "text/x-python",
   "name": "python",
   "nbconvert_exporter": "python",
   "pygments_lexer": "ipython3",
   "version": "3.9.13"
  },
  "papermill": {
   "default_parameters": {},
   "duration": 19.774719,
   "end_time": "2021-07-13T14:04:43.333870",
   "environment_variables": {},
   "exception": null,
   "input_path": "__notebook__.ipynb",
   "output_path": "__notebook__.ipynb",
   "parameters": {},
   "start_time": "2021-07-13T14:04:23.559151",
   "version": "2.3.3"
  }
 },
 "nbformat": 4,
 "nbformat_minor": 5
}
